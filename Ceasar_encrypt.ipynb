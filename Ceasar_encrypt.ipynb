{
  "nbformat": 4,
  "nbformat_minor": 0,
  "metadata": {
    "colab": {
      "provenance": [],
      "authorship_tag": "ABX9TyPWYiolnQC2Fp1uyvL0R0Yq",
      "include_colab_link": true
    },
    "kernelspec": {
      "name": "python3",
      "display_name": "Python 3"
    },
    "language_info": {
      "name": "python"
    }
  },
  "cells": [
    {
      "cell_type": "markdown",
      "metadata": {
        "id": "view-in-github",
        "colab_type": "text"
      },
      "source": [
        "<a href=\"https://colab.research.google.com/github/ANkerlam/city-u-project/blob/main/Ceasar_encrypt.ipynb\" target=\"_parent\"><img src=\"https://colab.research.google.com/assets/colab-badge.svg\" alt=\"Open In Colab\"/></a>"
      ]
    },
    {
      "cell_type": "code",
      "execution_count": 1,
      "metadata": {
        "colab": {
          "base_uri": "https://localhost:8080/"
        },
        "id": "KkACvcG07TK_",
        "outputId": "f427fb75-d490-4b2a-93cd-baf2a958d5fb"
      },
      "outputs": [
        {
          "output_type": "stream",
          "name": "stdout",
          "text": [
            "hello\n",
            "23,ebiil\n",
            "23,liibe\n"
          ]
        }
      ],
      "source": [
        "import random\n",
        "\n",
        "def caesar_encrypt(text, key):\n",
        "    encrypted_text = \"\"\n",
        "    for char in text:\n",
        "        if char.isalpha():\n",
        "            ascii_offset = ord('A') if char.isupper() else ord('a')\n",
        "            shifted_char = chr((ord(char) - ascii_offset + key) % 26 + ascii_offset)\n",
        "            encrypted_text += shifted_char\n",
        "        else:\n",
        "            encrypted_text += char\n",
        "    return encrypted_text\n",
        "\n",
        "def mirror_invert(text):\n",
        "    return text[::-1]\n",
        "\n",
        "def caesar_encrypt_with_random_key(text):\n",
        "    key = random.randint(1, 25)\n",
        "    encrypted_text = caesar_encrypt(text, key)\n",
        "    inverted_text = mirror_invert(encrypted_text)\n",
        "    return key, encrypted_text, inverted_text\n",
        "\n",
        "\n",
        "plaintext = input()\n",
        "key, ciphertext, inverted_ciphertext = caesar_encrypt_with_random_key(plaintext)\n",
        "Ciphertext = str(key)+\",\"+ciphertext\n",
        "print(Ciphertext)\n",
        "InvertedCiphertext = str(key)+ \",\" +inverted_ciphertext\n",
        "print(InvertedCiphertext)"
      ]
    },
    {
      "cell_type": "code",
      "source": [
        "def decrypt_caesar(ciphertext, shift):\n",
        "    decrypted_text = \"\"\n",
        "    for char in ciphertext:\n",
        "        if char.isalpha():\n",
        "            ascii_offset = 97 if char.islower() else 65\n",
        "            decrypted_char = chr((ord(char) - shift - ascii_offset) % 26 + ascii_offset)\n",
        "            decrypted_text += decrypted_char\n",
        "        else:\n",
        "            decrypted_text += char\n",
        "    return decrypted_text\n",
        "\n",
        "###shift, ciphertext = Ciphertext.split(\",\")\n",
        "shift, inciphertext = InvertedCiphertext.split(\",\")\n",
        "shift = int(shift)\n",
        "\n",
        "\n",
        "ciphertext = inciphertext[::-1]\n"
      ],
      "metadata": {
        "id": "OAKMKDsA8_nc"
      },
      "execution_count": 3,
      "outputs": []
    }
  ]
}